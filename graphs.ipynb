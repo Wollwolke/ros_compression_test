{
 "cells": [
  {
   "cell_type": "code",
   "execution_count": null,
   "metadata": {},
   "outputs": [],
   "source": [
    "import json\n",
    "import plotly.graph_objects as go\n",
    "from plotly.subplots import make_subplots\n",
    "\n",
    "PATH = \"./results.json\"\n",
    "\n",
    "sizes = {}\n",
    "times = {}\n",
    "\n",
    "def loadData():\n",
    "    global sizes, times\n",
    "    with open(PATH, \"r\") as file:\n",
    "        j = json.load(file)\n",
    "    sizes = j[\"sizes\"]\n",
    "    times = j[\"times\"]\n",
    "\n",
    "loadData()"
   ]
  }
 ],
 "metadata": {
  "kernelspec": {
   "display_name": "Python 3",
   "language": "python",
   "name": "python3"
  },
  "language_info": {
   "name": "python",
   "version": "3.11.1"
  },
  "orig_nbformat": 4
 },
 "nbformat": 4,
 "nbformat_minor": 2
}
