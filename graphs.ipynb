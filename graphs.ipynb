{
 "cells": [
  {
   "cell_type": "code",
   "execution_count": null,
   "metadata": {},
   "outputs": [],
   "source": [
    "import json\n",
    "import plotly.graph_objects as go\n",
    "from plotly.subplots import make_subplots\n",
    "\n",
    "PATH = \"./results.json\"\n",
    "\n",
    "sizes = {}\n",
    "times = {}\n",
    "\n",
    "def loadData():\n",
    "    global sizes, times\n",
    "    with open(PATH, \"r\") as file:\n",
    "        j = json.load(file)\n",
    "    sizes = j[\"sizes\"]\n",
    "    times = j[\"times\"]\n",
    "\n",
    "loadData()"
   ]
  },
  {
   "attachments": {},
   "cell_type": "markdown",
   "metadata": {},
   "source": [
    "Plot Graphs"
   ]
  },
  {
   "cell_type": "code",
   "execution_count": null,
   "metadata": {},
   "outputs": [],
   "source": [
    "def calcRatio(raw, compressed):\n",
    "    return raw / compressed\n",
    "\n",
    "def plotGraphs():\n",
    "    for sample in times.keys():\n",
    "        fig = go.Figure()\n",
    "        fig.update_xaxes(title_text=\"Time [s]\")\n",
    "        fig.update_yaxes(\n",
    "            title_text=\"Compression ratio\",\n",
    "        )\n",
    "\n",
    "        size = sizes[sample]\n",
    "        time = times[sample]\n",
    "        raw = sizes[sample][\"raw\"]\n",
    "\n",
    "        fig.update_layout(title_text=f\"Compression Ratio vs. Time [{sample} - {raw} Bytes]\")\n",
    "\n",
    "        for algo in time.keys():\n",
    "            ratios = []\n",
    "            for value in size[algo].values():\n",
    "                ratios.append(calcRatio(raw, value))\n",
    "            timeAxis = list(time[algo].values())\n",
    "            fig.add_trace(\n",
    "                go.Scatter(\n",
    "                    x=timeAxis,\n",
    "                    y=ratios,\n",
    "                    mode=\"lines+markers\",\n",
    "                    name=algo,\n",
    "                    text=list(size[algo].keys()),\n",
    "                    hovertemplate=algo + \" Lvl: %{text}\" + \"<br>Ratio: %{y:.3f}\",\n",
    "                ),\n",
    "            )\n",
    "        fig.show()\n",
    "\n",
    "plotGraphs()"
   ]
  }
 ],
 "metadata": {
  "kernelspec": {
   "display_name": "Python 3",
   "language": "python",
   "name": "python3"
  },
  "language_info": {
   "codemirror_mode": {
    "name": "ipython",
    "version": 3
   },
   "file_extension": ".py",
   "mimetype": "text/x-python",
   "name": "python",
   "nbconvert_exporter": "python",
   "pygments_lexer": "ipython3",
   "version": "3.11.1"
  },
  "orig_nbformat": 4
 },
 "nbformat": 4,
 "nbformat_minor": 2
}
